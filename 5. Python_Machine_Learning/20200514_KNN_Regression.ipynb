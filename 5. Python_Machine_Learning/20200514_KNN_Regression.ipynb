{
 "cells": [
  {
   "cell_type": "code",
   "execution_count": 7,
   "metadata": {
    "scrolled": true
   },
   "outputs": [
    {
     "name": "stdout",
     "output_type": "stream",
     "text": [
      "      x1     x2    y\n",
      "0   9.96  4.600  1.0\n",
      "1  11.00 -0.168  0.0\n",
      "2  11.50  5.210  1.0\n",
      "3   8.69  1.540  0.0\n",
      "4   8.11  4.290  0.0\n",
      "(26, 3)\n"
     ]
    }
   ],
   "source": [
    "#데이터 로딩\n",
    "import os\n",
    "import pandas as pd\n",
    "\n",
    "os.chdir(\"c:/pytest\")\n",
    "\n",
    "dataset = pd.read_csv('knn.csv')\n",
    "print(dataset.head())\n",
    "print(dataset.shape)\n",
    "X=dataset.iloc[:,0:2]\n",
    "Y=dataset.iloc[:,2]"
   ]
  },
  {
   "cell_type": "code",
   "execution_count": 29,
   "metadata": {},
   "outputs": [
    {
     "name": "stdout",
     "output_type": "stream",
     "text": [
      "[[ 9.96 ]\n",
      " [ 4.6  ]\n",
      " [11.   ]\n",
      " [-0.168]\n",
      " [11.5  ]\n",
      " [ 5.21 ]\n",
      " [ 8.69 ]\n",
      " [ 1.54 ]\n",
      " [ 8.11 ]\n",
      " [ 4.29 ]\n",
      " [ 8.31 ]\n",
      " [ 4.81 ]\n",
      " [11.9  ]\n",
      " [ 4.65 ]\n",
      " [ 9.67 ]\n",
      " [-0.203]\n",
      " [ 8.35 ]\n",
      " [ 5.13 ]\n",
      " [ 8.67 ]\n",
      " [ 4.48 ]\n",
      " [ 9.18 ]\n",
      " [ 5.09 ]\n",
      " [10.2  ]\n",
      " [ 2.46 ]\n",
      " [ 8.69 ]\n",
      " [ 1.49 ]\n",
      " [ 8.92 ]\n",
      " [-0.64 ]\n",
      " [ 9.49 ]\n",
      " [ 4.33 ]\n",
      " [ 9.26 ]\n",
      " [ 5.13 ]\n",
      " [ 8.   ]\n",
      " [ 4.85 ]\n",
      " [ 8.18 ]\n",
      " [ 1.3  ]\n",
      " [ 8.73 ]\n",
      " [ 2.49 ]\n",
      " [ 9.32 ]\n",
      " [ 5.1  ]\n",
      " [10.1  ]\n",
      " [ 0.991]\n",
      " [ 9.5  ]\n",
      " [-0.264]\n",
      " [ 8.34 ]\n",
      " [ 1.64 ]\n",
      " [ 9.5  ]\n",
      " [ 1.94 ]\n",
      " [ 9.15 ]\n",
      " [ 5.5  ]\n",
      " [11.6  ]\n",
      " [ 1.34 ]]\n"
     ]
    }
   ],
   "source": [
    "print(X)"
   ]
  },
  {
   "cell_type": "code",
   "execution_count": 30,
   "metadata": {},
   "outputs": [
    {
     "name": "stdout",
     "output_type": "stream",
     "text": [
      "0     1.0\n",
      "1     0.0\n",
      "2     1.0\n",
      "3     0.0\n",
      "4     0.0\n",
      "5     1.0\n",
      "6     1.0\n",
      "7     0.0\n",
      "8     1.0\n",
      "9     1.0\n",
      "10    1.0\n",
      "11    1.0\n",
      "12    0.0\n",
      "13    0.0\n",
      "14    1.0\n",
      "15    1.0\n",
      "16    1.0\n",
      "17    0.0\n",
      "18    0.0\n",
      "19    1.0\n",
      "20    0.0\n",
      "21    0.0\n",
      "22    0.0\n",
      "23    0.0\n",
      "24    1.0\n",
      "25    0.0\n",
      "Name: y, dtype: float64\n"
     ]
    }
   ],
   "source": [
    "print(Y)"
   ]
  },
  {
   "cell_type": "code",
   "execution_count": 9,
   "metadata": {},
   "outputs": [
    {
     "name": "stdout",
     "output_type": "stream",
     "text": [
      "      x1     x2\n",
      "0   9.96  4.600\n",
      "1  11.00 -0.168\n",
      "2  11.50  5.210\n",
      "3   8.69  1.540\n",
      "4   8.11  4.290\n",
      "0    1.0\n",
      "1    0.0\n",
      "2    1.0\n",
      "3    0.0\n",
      "4    0.0\n",
      "Name: y, dtype: float64\n",
      "(26, 2)\n",
      "(26,)\n"
     ]
    }
   ],
   "source": [
    "#데이터 확인\n",
    "print(X.head())\n",
    "print(Y.head())\n",
    "print(X.shape)\n",
    "print(Y.shape)"
   ]
  },
  {
   "cell_type": "code",
   "execution_count": 10,
   "metadata": {},
   "outputs": [
    {
     "name": "stdout",
     "output_type": "stream",
     "text": [
      "       x1     x2\n",
      "13   8.92 -0.640\n",
      "18   8.73  2.490\n",
      "19   9.32  5.100\n",
      "16   8.00  4.850\n",
      "1   11.00 -0.168\n",
      "       x1     x2\n",
      "2   11.50  5.210\n",
      "20  10.10  0.991\n",
      "14   9.49  4.330\n",
      "17   8.18  1.300\n",
      "5    8.31  4.810\n"
     ]
    }
   ],
   "source": [
    "#데이터 분리\n",
    "#훈련 데이터와 테스트 데이터로 분리하고 확인한다\n",
    "from sklearn.model_selection import train_test_split\n",
    "X_train, X_test, Y_train, Y_test = train_test_split(X, Y, random_state=0)\n",
    "print(X_train.head())\n",
    "print(X_test.head())"
   ]
  },
  {
   "cell_type": "code",
   "execution_count": 12,
   "metadata": {},
   "outputs": [
    {
     "data": {
      "text/plain": [
       "KNeighborsClassifier(algorithm='auto', leaf_size=30, metric='minkowski',\n",
       "                     metric_params=None, n_jobs=None, n_neighbors=3, p=2,\n",
       "                     weights='uniform')"
      ]
     },
     "execution_count": 12,
     "metadata": {},
     "output_type": "execute_result"
    }
   ],
   "source": [
    "#모델 만들기\n",
    "#knn 분류기 객체를 생성하고 훈련데이터로 모델을 학습시킨다.\n",
    "#분류기 객체 만들기\n",
    "from sklearn.neighbors import KNeighborsClassifier\n",
    "clf = KNeighborsClassifier(n_neighbors=3)\n",
    "\n",
    "#훈련데이터를 모델에 넣어 학습시키기\n",
    "clf.fit(X_train,Y_train)"
   ]
  },
  {
   "cell_type": "code",
   "execution_count": 15,
   "metadata": {},
   "outputs": [
    {
     "name": "stdout",
     "output_type": "stream",
     "text": [
      "[1. 0. 1. 0. 1. 0. 0.]\n",
      "0.8571428571428571\n",
      "0.857\n"
     ]
    }
   ],
   "source": [
    "#데이터 예측\n",
    "#테스트 데이터를 넣어 예측하고 정확도를 산출\n",
    "\n",
    "result = clf.predict(X_test)\n",
    "print(result)\n",
    "\n",
    "print(clf.score(X_test,Y_test))\n",
    "print(round(clf.score(X_test,Y_test),3))"
   ]
  },
  {
   "cell_type": "code",
   "execution_count": 39,
   "metadata": {},
   "outputs": [
    {
     "data": {
      "image/png": "[encoded data removed]",
      "text/plain": [
       "<Figure size 432x288 with 1 Axes>"
      ]
     },
     "metadata": {
      "needs_background": "light"
     },
     "output_type": "display_data"
    }
   ],
   "source": [
    "# K 숫자를 변경해보기\n",
    "import matplotlib.pyplot as plt\n",
    "train_accuracy = []\n",
    "test_accuracy = []\n",
    "n_neighbors_settings = range(1, 11)\n",
    "\n",
    "for n_neighbors in n_neighbors_settings :\n",
    "    clf = KNeighborsClassifier(n_neighbors=n_neighbors)\n",
    "    clf.fit(X_train, Y_train)\n",
    "    train_accuracy.append(clf.score(X_train, Y_train))\n",
    "    test_accuracy.append(clf.score(X_test, Y_test))\n",
    "    \n",
    "plt.plot(n_neighbors_settings, train_accuracy, label=\"Traing Acuuracy\")\n",
    "\n",
    "plt.show()"
   ]
  },
  {
   "cell_type": "code",
   "execution_count": 50,
   "metadata": {},
   "outputs": [
    {
     "name": "stdout",
     "output_type": "stream",
     "text": [
      "       x      y\n",
      "0 -0.753 -0.448\n",
      "1  2.700  0.331\n",
      "2  1.390  0.779\n",
      "3  0.592  0.035\n",
      "4 -2.060 -1.390\n",
      "(40, 2)\n"
     ]
    }
   ],
   "source": [
    "# KNN 회귀\n",
    "import os\n",
    "import pandas as pd\n",
    "\n",
    "os.chdir(\"c:/pytest\")\n",
    "\n",
    "dataset = pd.read_csv('wave.csv')\n",
    "print(dataset.head())\n",
    "print(dataset.shape)\n",
    "X=dataset.iloc[:,0]\n",
    "Y=dataset.iloc[:,1]"
   ]
  },
  {
   "cell_type": "code",
   "execution_count": 51,
   "metadata": {},
   "outputs": [
    {
     "name": "stdout",
     "output_type": "stream",
     "text": [
      "0   -0.753\n",
      "1    2.700\n",
      "2    1.390\n",
      "3    0.592\n",
      "4   -2.060\n",
      "Name: x, dtype: float64\n",
      "0   -0.448\n",
      "1    0.331\n",
      "2    0.779\n",
      "3    0.035\n",
      "4   -1.390\n",
      "Name: y, dtype: float64\n",
      "(40,)\n",
      "(40,)\n",
      "(40, 1)\n"
     ]
    }
   ],
   "source": [
    "#데이터 확인\n",
    "print(X.head())\n",
    "print(Y.head())\n",
    "print(X.shape)\n",
    "print(Y.shape)\n",
    "\n",
    "X = X.values.reshape(-1,1)\n",
    "print(X.shape)"
   ]
  },
  {
   "cell_type": "code",
   "execution_count": 52,
   "metadata": {},
   "outputs": [
    {
     "data": {
      "text/plain": [
       "KNeighborsRegressor(algorithm='auto', leaf_size=30, metric='minkowski',\n",
       "                    metric_params=None, n_jobs=None, n_neighbors=3, p=2,\n",
       "                    weights='uniform')"
      ]
     },
     "execution_count": 52,
     "metadata": {},
     "output_type": "execute_result"
    }
   ],
   "source": [
    "# 모델 훈련\n",
    "from sklearn.model_selection import train_test_split\n",
    "X_train, X_test, Y_train, Y_test = train_test_split(X, Y, random_state=0)\n",
    "\n",
    "# K = 3로 모델 훈련\n",
    "from sklearn.neighbors import KNeighborsRegressor\n",
    "reg = KNeighborsRegressor(n_neighbors=3)\n",
    "reg.fit(X_train,Y_train)"
   ]
  },
  {
   "cell_type": "code",
   "execution_count": 53,
   "metadata": {},
   "outputs": [
    {
     "name": "stdout",
     "output_type": "stream",
     "text": [
      "prediction: [-0.054       0.35676667  1.13766667 -1.89333333 -1.14133333 -1.63\n",
      "  0.35676667  0.91333333 -0.44666667 -1.14133333]\n",
      "0.8350744129227526\n",
      "0.835\n"
     ]
    }
   ],
   "source": [
    "#테스트 데이터 검증\n",
    "print(\"prediction:\", reg.predict(X_test))\n",
    "reg.score(X_test, Y_test)\n",
    "\n",
    "print(reg.score(X_test, Y_test))\n",
    "print(round(reg.score(X_test, Y_test),3))"
   ]
  },
  {
   "cell_type": "code",
   "execution_count": null,
   "metadata": {},
   "outputs": [],
   "source": []
  }
 ],
 "metadata": {
  "kernelspec": {
   "display_name": "Python 3",
   "language": "python",
   "name": "python3"
  },
  "language_info": {
   "codemirror_mode": {
    "name": "ipython",
    "version": 3
   },
   "file_extension": ".py",
   "mimetype": "text/x-python",
   "name": "python",
   "nbconvert_exporter": "python",
   "pygments_lexer": "ipython3",
   "version": "3.7.6"
  }
 },
 "nbformat": 4,
 "nbformat_minor": 2
}
