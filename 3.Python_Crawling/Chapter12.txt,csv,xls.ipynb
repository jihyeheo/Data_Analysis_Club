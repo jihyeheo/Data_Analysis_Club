{
 "cells": [
  {
   "cell_type": "code",
   "execution_count": 1,
   "metadata": {},
   "outputs": [
    {
     "name": "stdout",
     "output_type": "stream",
     "text": [
      "크롤링할 키워드는 무엇입니까?: 겨울 여행\n",
      "검색 결과를 저장할 txt 파일경로와 이름을 지정하세요(예:c:\\data\\test_3.txt): C:\\Users\\stat\\Desktop\\허지혜\\수DA쟁이\\완친파\\test.txt\n",
      "검색 결과를 저장할 csv 파일경로와 이름을 지정하세요(예:c:\\data\\test_3.csv): C:\\Users\\stat\\Desktop\\허지혜\\수DA쟁이\\완친파\\test.csv\n",
      "검색 결과를 저장할 xls 파일경로와 이름을 지정하세요(예:c:\\data\\test_3.xls): C:\\Users\\stat\\Desktop\\허지혜\\수DA쟁이\\완친파\\test.xls\n",
      "<ul class=\"list_thumType type1\"><li><div class=\"photo\"><a href=\"javascript:goSearchDetail('fe4be6fc-76d1-4158-8f76-5008d157c370');\"> <img alt=\"뜨끈한 국수 한 그릇 먹고 나서는 담양 겨울 여행\" src=\"https://cdn.visitkorea.or.kr/img/call?cmd=VIEW&amp;id=3f22f77d-ace4-46de-a8d7-a92e535064f8\"/> </a></div> <div class=\"area_txt\"> <div class=\"tit\"> <a href=\"javascript:goSearchDetail('fe4be6fc-76d1-4158-8f76-5008d157c370');\">뜨끈한 국수 한 그릇 먹고 나서는 담양 <!--HS-->겨울<!--HE--> <!--HS-->여행<!--HE--></a> </div> <div class=\"service\"> <p>전라남도 담양군</p> <ul class=\"brandingIcon\" id=\"branding_fe4be6fc-76d1-4158-8f76-5008d157c370\"> </ul> </div> <p class=\"tag_type\"><span>#겨울제철음식</span><span>#담양맛집</span><span>#담양국수거리</span><span>#죽녹원</span><span>#대나무박람회홍보관</span><span>#담양장</span><span>#슬로시티</span><span>#창평슬로시티</span><span>#삼지내마을</span><span>#추천가볼만한곳</span><span>#담양가볼만한곳</span><span>#담양당일코스</span><span>#담양1박2일코스</span><span>#담양맛집</span><span>#죽향문화체험마을</span><span>#서당체험</span><span>#미식여행</span><span>#국수맛집</span><span>#겨울의맛</span><span>#2015년1월추천가볼만한곳</span><span>#1월추천가볼만한곳</span><span>#맛따라가기</span> </p></div><button class=\"btn_view\" title=\"열기\" type=\"button\">더보기</button><div class=\"pop_subMenu\"> <ul> <li class=\"btn_far\"><a href=\"javascript:\" onclick='setFavoContent(\"fe4be6fc-76d1-4158-8f76-5008d157c370\")'>즐겨찾기</a></li> <li class=\"btn_share\" id=\"fe4be6fc-76d1-4158-8f76-5008d157c370\"><a href=\"javascript:\" onclick='getShareInfo(\"%EB%9C%A8%EB%81%88%ED%95%9C%20%EA%B5%AD%EC%88%98%20%ED%95%9C%20%EA%B7%B8%EB%A6%87%20%EB%A8%B9%EA%B3%A0%20%EB%82%98%EC%84%9C%EB%8A%94%20%EB%8B%B4%EC%96%91%20%3C!HS%3E%EA%B2%A8%EC%9A%B8%3C!HE%3E%20%3C!HS%3E%EC%97%AC%ED%96%89%3C!HE%3E\",\"3f22f77d-ace4-46de-a8d7-a92e535064f8\",\"fe4be6fc-76d1-4158-8f76-5008d157c370\",\"304\");'>공유하기</a></li> </ul></div></li><li><div class=\"photo\"><a href=\"javascript:goSearchDetail('aa29a379-b733-4f37-a993-ecf0bb6e7745');\"> <img alt=\"겨울 여행의 추억 만들기\" src=\"https://cdn.visitkorea.or.kr/img/call?cmd=VIEW&amp;id=0c38ecbe-02ba-46ea-89e8-3bb6bf9a1798\"/> </a></div> <div class=\"area_txt\"> <div class=\"tit\"> <a href=\"javascript:goSearchDetail('aa29a379-b733-4f37-a993-ecf0bb6e7745');\"><!--HS-->겨울<!--HE--> <!--HS-->여행<!--HE-->의 추억 만들기</a> </div> <div class=\"service\"> <p></p> <ul class=\"brandingIcon\" id=\"branding_aa29a379-b733-4f37-a993-ecf0bb6e7745\"> </ul> </div> <p class=\"tag_type\"><span>#한국관광품질인증</span><span>#여행자의방</span><span>#숲속의요정</span><span>#정강원관광농원</span><span>#소낭구펜션</span><span>#옛마실펜션</span><span>#꿈꾸는노마드</span><span>#더세리리조트</span><span>#메모리즈호텔</span><span>#애플리트</span><span>#목포마리나베이호텔</span><span>#겨울여행</span><span>#한국관광품질인증테마여행</span><span>#우수숙소</span><span>#인증숙소</span><span>#평창숙소</span><span>#거제숙소</span><span>#제주숙소</span><span>#속초숙소</span><span>#목포숙소</span><span>#포항숙소</span><span>#양양숙소</span> </p></div><button class=\"btn_view\" title=\"열기\" type=\"button\">더보기</button><div class=\"pop_subMenu\"> <ul> <li class=\"btn_far\"><a href=\"javascript:\" onclick='setFavoContent(\"aa29a379-b733-4f37-a993-ecf0bb6e7745\")'>즐겨찾기</a></li> <li class=\"btn_share\" id=\"aa29a379-b733-4f37-a993-ecf0bb6e7745\"><a href=\"javascript:\" onclick='getShareInfo(\"%3C!HS%3E%EA%B2%A8%EC%9A%B8%3C!HE%3E%20%3C!HS%3E%EC%97%AC%ED%96%89%3C!HE%3E%EC%9D%98%20%EC%B6%94%EC%96%B5%20%EB%A7%8C%EB%93%A4%EA%B8%B0\",\"0c38ecbe-02ba-46ea-89e8-3bb6bf9a1798\",\"aa29a379-b733-4f37-a993-ecf0bb6e7745\",\"304\");'>공유하기</a></li> </ul></div></li><li><div class=\"photo\"><a href=\"javascript:goSearchDetail('9616ffb2-2f9f-43c2-92ee-ae6203944df9');\"> <img alt=\"기차 타고 떠나는 겨울여행, 군위 화본역과 화본마을\" src=\"https://cdn.visitkorea.or.kr/img/call?cmd=VIEW&amp;id=1398a58d-0733-48d9-be3a-1e099ed58f67\"/> </a></div> <div class=\"area_txt\"> <div class=\"tit\"> <a href=\"javascript:goSearchDetail('9616ffb2-2f9f-43c2-92ee-ae6203944df9');\">기차 타고 떠나는 <!--HS-->겨울<!--HE--><!--HS-->여행<!--HE-->, 군위 화본역과 화본마을</a> </div> <div class=\"service\"> <p>경상북도 군위군</p> <ul class=\"brandingIcon\" id=\"branding_9616ffb2-2f9f-43c2-92ee-ae6203944df9\"> </ul> </div> <p class=\"tag_type\"><span>#겨울기차여행</span><span>#공공누리</span> </p></div><button class=\"btn_view\" title=\"열기\" type=\"button\">더보기</button><div class=\"pop_subMenu\"> <ul> <li class=\"btn_far\"><a href=\"javascript:\" onclick='setFavoContent(\"9616ffb2-2f9f-43c2-92ee-ae6203944df9\")'>즐겨찾기</a></li> <li class=\"btn_share\" id=\"9616ffb2-2f9f-43c2-92ee-ae6203944df9\"><a href=\"javascript:\" onclick='getShareInfo(\"%EA%B8%B0%EC%B0%A8%20%ED%83%80%EA%B3%A0%20%EB%96%A0%EB%82%98%EB%8A%94%20%3C!HS%3E%EA%B2%A8%EC%9A%B8%3C!HE%3E%3C!HS%3E%EC%97%AC%ED%96%89%3C!HE%3E%2C%20%EA%B5%B0%EC%9C%84%20%ED%99%94%EB%B3%B8%EC%97%AD%EA%B3%BC%20%ED%99%94%EB%B3%B8%EB%A7%88%EC%9D%84\",\"1398a58d-0733-48d9-be3a-1e099ed58f67\",\"9616ffb2-2f9f-43c2-92ee-ae6203944df9\",\"304\");'>공유하기</a></li> </ul></div></li><li><div class=\"photo\"><a href=\"javascript:goSearchDetail('76c2b55b-c257-47a9-8aa7-22ea22e7231d');\"> <img alt=\"“뭘 좋아할지 몰라서 다 준비했어!” 겨울방학 평창-강릉 가족 여행법\" src=\"https://cdn.visitkorea.or.kr/img/call?cmd=VIEW&amp;id=11de2f57-50ea-47c0-953d-e53ea7560219\"/> </a></div> <div class=\"area_txt\"> <div class=\"tit\"> <a href=\"javascript:goSearchDetail('76c2b55b-c257-47a9-8aa7-22ea22e7231d');\">“뭘 좋아할지 몰라서 다 준비했어!” <!--HS-->겨울<!--HE-->방학 평창-강릉 가족 <!--HS-->여행<!--HE-->법</a> </div> <div class=\"service\"> <p>강원도 평창군</p> <ul class=\"brandingIcon\" id=\"branding_76c2b55b-c257-47a9-8aa7-22ea22e7231d\"> </ul> </div> <p class=\"tag_type\"><span>#평창가볼만한곳</span><span>#강원도여행</span><span>#가족여행</span><span>#체험학습</span><span>#이색체험</span><span>#아이와함께</span><span>#겨울방학가볼만한곳</span><span>#강릉가볼만한곳</span><span>#온가족_겨울여행</span> </p></div><button class=\"btn_view\" title=\"열기\" type=\"button\">더보기</button><div class=\"pop_subMenu\"> <ul> <li class=\"btn_far\"><a href=\"javascript:\" onclick='setFavoContent(\"76c2b55b-c257-47a9-8aa7-22ea22e7231d\")'>즐겨찾기</a></li> <li class=\"btn_share\" id=\"76c2b55b-c257-47a9-8aa7-22ea22e7231d\"><a href=\"javascript:\" onclick='getShareInfo(\"%E2%80%9C%EB%AD%98%20%EC%A2%8B%EC%95%84%ED%95%A0%EC%A7%80%20%EB%AA%B0%EB%9D%BC%EC%84%9C%20%EB%8B%A4%20%EC%A4%80%EB%B9%84%ED%96%88%EC%96%B4!%E2%80%9D%20%3C!HS%3E%EA%B2%A8%EC%9A%B8%3C!HE%3E%EB%B0%A9%ED%95%99%20%ED%8F%89%EC%B0%BD-%EA%B0%95%EB%A6%89%20%EA%B0%80%EC%A1%B1%20%3C!HS%3E%EC%97%AC%ED%96%89%3C!HE%3E%EB%B2%95\",\"11de2f57-50ea-47c0-953d-e53ea7560219\",\"76c2b55b-c257-47a9-8aa7-22ea22e7231d\",\"304\");'>공유하기</a></li> </ul></div></li><li class=\"banner_area\"> <div class=\"pc\"> <a class=\"banner0\" href=\"https://korean.visitkorea.or.kr/detail/rem_detail.do?cotid=eda42f79-b64f-4874-87eb-ec925f327358&amp;con_type=11700\"><span><img alt=\"초보지만 괜찮아~! 산린이를 위한 순한맛 등산가이드!\" src=\"https://cdn.visitkorea.or.kr/img/call?cmd=VIEW&amp;id=01a29485-b5fe-4919-9e75-65ae39a2c546\"/></span></a> <a class=\"banner1\" href=\"https://korean.visitkorea.or.kr/detail/rem_detail.do?cotid=bd5833f2-ca4c-423a-8eb3-f16e132bfd9d&amp;con_type=11700\"><span><img alt=\"색다른 즐거움이 있는 취향저격 캠핑장!\" src=\"https://cdn.visitkorea.or.kr/img/call?cmd=VIEW&amp;id=73dd734d-e4a2-4b68-a9f3-40b4ea82d3ef\"/></span></a> </div></li><li><div class=\"photo\"><a href=\"javascript:goSearchDetail('96f93b4c-bf74-41a1-a085-62a7a82a1acb');\"> <img alt=\"겨울 특집 용인여행, 전통과 현대가 공존하는 용인으로!\" src=\"https://cdn.visitkorea.or.kr/img/call?cmd=VIEW&amp;id=d0090e2a-8a40-4e52-89b4-ebb0f9c1f7ef\"/> </a></div> <div class=\"area_txt\"> <div class=\"tit\"> <a href=\"javascript:goSearchDetail('96f93b4c-bf74-41a1-a085-62a7a82a1acb');\"><!--HS-->겨울<!--HE--> 특집 용인<!--HS-->여행<!--HE-->, 전통과 현대가 공존하는 용인으로!</a> </div> <div class=\"service\"> <p>경기도 용인시</p> <ul class=\"brandingIcon\" id=\"branding_96f93b4c-bf74-41a1-a085-62a7a82a1acb\"> </ul> </div> <p class=\"tag_type\"><span>#용인여행</span><span>#용인가볼만한곳</span><span>#용인5일장</span><span>#한국민속촌</span><span>#장옥진고택</span><span>#어로프슬라이스피스</span><span>#특별한_겨울나들이</span> </p></div><button class=\"btn_view\" title=\"열기\" type=\"button\">더보기</button><div class=\"pop_subMenu\"> <ul> <li class=\"btn_far\"><a href=\"javascript:\" onclick='setFavoContent(\"96f93b4c-bf74-41a1-a085-62a7a82a1acb\")'>즐겨찾기</a></li> <li class=\"btn_share\" id=\"96f93b4c-bf74-41a1-a085-62a7a82a1acb\"><a href=\"javascript:\" onclick='getShareInfo(\"%3C!HS%3E%EA%B2%A8%EC%9A%B8%3C!HE%3E%20%ED%8A%B9%EC%A7%91%20%EC%9A%A9%EC%9D%B8%3C!HS%3E%EC%97%AC%ED%96%89%3C!HE%3E%2C%20%EC%A0%84%ED%86%B5%EA%B3%BC%20%ED%98%84%EB%8C%80%EA%B0%80%20%EA%B3%B5%EC%A1%B4%ED%95%98%EB%8A%94%20%EC%9A%A9%EC%9D%B8%EC%9C%BC%EB%A1%9C!\",\"d0090e2a-8a40-4e52-89b4-ebb0f9c1f7ef\",\"96f93b4c-bf74-41a1-a085-62a7a82a1acb\",\"304\");'>공유하기</a></li> </ul></div></li><li><div class=\"photo\"><a href=\"javascript:goSearchDetail('45e359e4-2782-4315-a9f5-71ebac668e3e');\"> <img alt=\"겨울여행지 추천. 느린 만큼 매력적인 곳, 1박2일 안동 여행 코스\" src=\"https://cdn.visitkorea.or.kr/img/call?cmd=VIEW&amp;id=35fb0f27-afd4-4319-9148-fbb28b5d8683\"/> </a></div> <div class=\"area_txt\"> <div class=\"tit\"> <a href=\"javascript:goSearchDetail('45e359e4-2782-4315-a9f5-71ebac668e3e');\"><!--HS-->겨울<!--HE--><!--HS-->여행<!--HE-->지 추천. 느린 만큼 매력적인 곳, 1박2일 안동 <!--HS-->여행<!--HE--> 코스</a> </div> <div class=\"service\"> <p>경상북도 안동시</p> <ul class=\"brandingIcon\" id=\"branding_45e359e4-2782-4315-a9f5-71ebac668e3e\"> </ul> </div> <p class=\"tag_type\"><span>#안동여행</span><span>#겨울여행</span><span>#새해맞이여행</span><span>#안동하회마을</span><span>#월영교</span><span>#월영정</span><span>#안동찜닭</span><span>#안동간고등어</span><span>#안동구시장</span><span>#새해여행</span><span>#겨울가볼만한곳</span><span>#겨울소확행</span> </p></div><button class=\"btn_view\" title=\"열기\" type=\"button\">더보기</button><div class=\"pop_subMenu\"> <ul> <li class=\"btn_far\"><a href=\"javascript:\" onclick='setFavoContent(\"45e359e4-2782-4315-a9f5-71ebac668e3e\")'>즐겨찾기</a></li> <li class=\"btn_share\" id=\"45e359e4-2782-4315-a9f5-71ebac668e3e\"><a href=\"javascript:\" onclick='getShareInfo(\"%3C!HS%3E%EA%B2%A8%EC%9A%B8%3C!HE%3E%3C!HS%3E%EC%97%AC%ED%96%89%3C!HE%3E%EC%A7%80%20%EC%B6%94%EC%B2%9C.%20%EB%8A%90%EB%A6%B0%20%EB%A7%8C%ED%81%BC%20%EB%A7%A4%EB%A0%A5%EC%A0%81%EC%9D%B8%20%EA%B3%B3%2C%201%EB%B0%952%EC%9D%BC%20%EC%95%88%EB%8F%99%20%3C!HS%3E%EC%97%AC%ED%96%89%3C!HE%3E%20%EC%BD%94%EC%8A%A4\",\"35fb0f27-afd4-4319-9148-fbb28b5d8683\",\"45e359e4-2782-4315-a9f5-71ebac668e3e\",\"304\");'>공유하기</a></li> </ul></div></li><li><div class=\"photo\"><a href=\"javascript:goSearchDetail('be3db10c-b642-409c-81cc-c4cdecb5bd8b');\"> <img alt=\"향긋한 굴구이, 시원한 대구탕과 함께 하는 겨울 거제여행\" src=\"https://cdn.visitkorea.or.kr/img/call?cmd=VIEW&amp;id=c531fd60-c5bf-4028-b8f2-dbeddad9e1ec\"/> </a></div> <div class=\"area_txt\"> <div class=\"tit\"> <a href=\"javascript:goSearchDetail('be3db10c-b642-409c-81cc-c4cdecb5bd8b');\">향긋한 굴구이, 시원한 대구탕과 함께 하는 <!--HS-->겨울<!--HE--> 거제<!--HS-->여행<!--HE--></a> </div> <div class=\"service\"> <p>경상남도 거제시</p> <ul class=\"brandingIcon\" id=\"branding_be3db10c-b642-409c-81cc-c4cdecb5bd8b\"> </ul> </div> <p class=\"tag_type\"><span>#경상남도</span><span>#거제</span><span>#굴</span><span>#굴양식장</span><span>#대구</span><span>#외포항</span><span>#신선대</span><span>#바람의언덕</span><span>#해금강테마박물관</span><span>#몽돌해변</span><span>#드라이브</span><span>#바다</span><span>#겨울</span><span>#힐링</span><span>#여행</span><span>#가족</span><span>#친구</span><span>#연인</span><span>#추천가볼만한곳</span><span>#거제가볼만한곳</span><span>#거제당일코스</span><span>#거제1박2일코스</span><span>#겨울제철음식</span><span>#미식여행</span><span>#굴무침</span><span>#굴구이</span><span>#대구회무침</span><span>#대구탕</span><span>#겨울먹거리</span><span>#2015년12월추천가볼만한곳</span><span>#12월추천가볼만한곳</span> </p></div><button class=\"btn_view\" title=\"열기\" type=\"button\">더보기</button><div class=\"pop_subMenu\"> <ul> <li class=\"btn_far\"><a href=\"javascript:\" onclick='setFavoContent(\"be3db10c-b642-409c-81cc-c4cdecb5bd8b\")'>즐겨찾기</a></li> <li class=\"btn_share\" id=\"be3db10c-b642-409c-81cc-c4cdecb5bd8b\"><a href=\"javascript:\" onclick='getShareInfo(\"%ED%96%A5%EA%B8%8B%ED%95%9C%20%EA%B5%B4%EA%B5%AC%EC%9D%B4%2C%20%EC%8B%9C%EC%9B%90%ED%95%9C%20%EB%8C%80%EA%B5%AC%ED%83%95%EA%B3%BC%20%ED%95%A8%EA%BB%98%20%ED%95%98%EB%8A%94%20%3C!HS%3E%EA%B2%A8%EC%9A%B8%3C!HE%3E%20%EA%B1%B0%EC%A0%9C%3C!HS%3E%EC%97%AC%ED%96%89%3C!HE%3E\",\"c531fd60-c5bf-4028-b8f2-dbeddad9e1ec\",\"be3db10c-b642-409c-81cc-c4cdecb5bd8b\",\"304\");'>공유하기</a></li> </ul></div></li><li><div class=\"photo\"><a href=\"javascript:goSearchDetail('ebfe04ed-3ecf-4353-b772-2c73acf46292');\"> <img alt=\"소소한 '제주여행' 꿀팁! 〈겨울편〉\" src=\"https://cdn.visitkorea.or.kr/img/call?cmd=VIEW&amp;id=41cf87ae-f99e-4a9d-bf68-b12088ad9031\"/> </a></div> <div class=\"area_txt\"> <div class=\"tit\"> <a href=\"javascript:goSearchDetail('ebfe04ed-3ecf-4353-b772-2c73acf46292');\">소소한 '제주<!--HS-->여행<!--HE-->' 꿀팁! 〈<!--HS-->겨울<!--HE-->편〉</a> </div> <div class=\"service\"> <p>제주도</p> <ul class=\"brandingIcon\" id=\"branding_ebfe04ed-3ecf-4353-b772-2c73acf46292\"> </ul> </div> <p class=\"tag_type\"><span>#제주도</span><span>#제주도여행코스</span><span>#라프별빛축제</span><span>#새별오름</span><span>#카멜리아힐</span><span>#향파두리유적지</span><span>#제주가볼만한곳</span><span>#겨울여행</span><span>#감성여행</span><span>#겨울감성여행</span><span>#동백꽃</span><span>#불빛축제</span><span>#오름</span><span>#1월가볼만한곳</span> </p></div><button class=\"btn_view\" title=\"열기\" type=\"button\">더보기</button><div class=\"pop_subMenu\"> <ul> <li class=\"btn_far\"><a href=\"javascript:\" onclick='setFavoContent(\"ebfe04ed-3ecf-4353-b772-2c73acf46292\")'>즐겨찾기</a></li> <li class=\"btn_share\" id=\"ebfe04ed-3ecf-4353-b772-2c73acf46292\"><a href=\"javascript:\" onclick='getShareInfo(\"%EC%86%8C%EC%86%8C%ED%95%9C%20%26%2339%3B%EC%A0%9C%EC%A3%BC%3C!HS%3E%EC%97%AC%ED%96%89%3C!HE%3E%26%2339%3B%20%EA%BF%80%ED%8C%81!%20%E3%80%88%3C!HS%3E%EA%B2%A8%EC%9A%B8%3C!HE%3E%ED%8E%B8%E3%80%89\",\"41cf87ae-f99e-4a9d-bf68-b12088ad9031\",\"ebfe04ed-3ecf-4353-b772-2c73acf46292\",\"304\");'>공유하기</a></li> </ul></div></li><li><div class=\"photo\"><a href=\"javascript:goSearchDetail('4a19a8d7-7b35-4ba4-a063-f5b8659a5794');\"> <img alt=\"추억이 가득한 경주, 겨울바다가 아름다운 포항으로 떠나는 여행\" src=\"https://cdn.visitkorea.or.kr/img/call?cmd=VIEW&amp;id=169b1131-2eeb-4974-987e-2d36f75e03d8\"/> </a></div> <div class=\"area_txt\"> <div class=\"tit\"> <a href=\"javascript:goSearchDetail('4a19a8d7-7b35-4ba4-a063-f5b8659a5794');\">추억이 가득한 경주, <!--HS-->겨울<!--HE-->바다가 아름다운 포항으로 떠나는 <!--HS-->여행<!--HE--></a> </div> <div class=\"service\"> <p>경상북도 경주시</p> <ul class=\"brandingIcon\" id=\"branding_4a19a8d7-7b35-4ba4-a063-f5b8659a5794\"> </ul> </div> <p class=\"tag_type\"><span>#어르신추천코스</span><span>#경주가볼만한곳</span><span>#국립경주박물관</span><span>#불국사</span><span>#죽도시장</span><span>#호미곶</span><span>#포항가볼만한곳</span><span>#경북1박2일코스</span><span>#경북2박3일코스</span><span>#무장애여행지</span><span>#장애인추천여행지</span><span>#힐링여행</span><span>#겨울바다</span><span>#겨울바다로가자</span> </p></div><button class=\"btn_view\" title=\"열기\" type=\"button\">더보기</button><div class=\"pop_subMenu\"> <ul> <li class=\"btn_far\"><a href=\"javascript:\" onclick='setFavoContent(\"4a19a8d7-7b35-4ba4-a063-f5b8659a5794\")'>즐겨찾기</a></li> <li class=\"btn_share\" id=\"4a19a8d7-7b35-4ba4-a063-f5b8659a5794\"><a href=\"javascript:\" onclick='getShareInfo(\"%EC%B6%94%EC%96%B5%EC%9D%B4%20%EA%B0%80%EB%93%9D%ED%95%9C%20%EA%B2%BD%EC%A3%BC%2C%20%3C!HS%3E%EA%B2%A8%EC%9A%B8%3C!HE%3E%EB%B0%94%EB%8B%A4%EA%B0%80%20%EC%95%84%EB%A6%84%EB%8B%A4%EC%9A%B4%20%ED%8F%AC%ED%95%AD%EC%9C%BC%EB%A1%9C%20%EB%96%A0%EB%82%98%EB%8A%94%20%3C!HS%3E%EC%97%AC%ED%96%89%3C!HE%3E\",\"169b1131-2eeb-4974-987e-2d36f75e03d8\",\"4a19a8d7-7b35-4ba4-a063-f5b8659a5794\",\"304\");'>공유하기</a></li> </ul></div></li><li><div class=\"photo\"><a href=\"javascript:goSearchDetail('c6955398-ede4-4d54-905a-e3b1aacd939c');\"> <img alt=\"겨울왕국, 하얀 눈에 안긴 내소사와 곰소염전 변산반도 힐링 여행\" src=\"https://cdn.visitkorea.or.kr/img/call?cmd=VIEW&amp;id=6a520e45-43d6-4e60-a9fe-d0cf620fd800\"/> </a></div> <div class=\"area_txt\"> <div class=\"tit\"> <a href=\"javascript:goSearchDetail('c6955398-ede4-4d54-905a-e3b1aacd939c');\"><!--HS-->겨울<!--HE-->왕국, 하얀 눈에 안긴 내소사와 곰소염전 변산반도 힐링 <!--HS-->여행<!--HE--></a> </div> <div class=\"service\"> <p>전라북도 부안군</p> <ul class=\"brandingIcon\" id=\"branding_c6955398-ede4-4d54-905a-e3b1aacd939c\"> </ul> </div> <p class=\"tag_type\"><span>#부안가볼만한곳</span><span>#겨울왕국</span><span>#변산반도</span><span>#힐링여행</span><span>#내소사</span><span>#곰소염전</span><span>#염전</span><span>#소금</span><span>#일몰</span><span>#격포항</span><span>#대웅보전</span><span>#공공누리</span><span>#격포해수욕장</span><span>#적벽강</span><span>#닭이봉</span><span>#솔섬</span><span>#겨울바다로가자</span> </p></div><button class=\"btn_view\" title=\"열기\" type=\"button\">더보기</button><div class=\"pop_subMenu\"> <ul> <li class=\"btn_far\"><a href=\"javascript:\" onclick='setFavoContent(\"c6955398-ede4-4d54-905a-e3b1aacd939c\")'>즐겨찾기</a></li> <li class=\"btn_share\" id=\"c6955398-ede4-4d54-905a-e3b1aacd939c\"><a href=\"javascript:\" onclick='getShareInfo(\"%3C!HS%3E%EA%B2%A8%EC%9A%B8%3C!HE%3E%EC%99%95%EA%B5%AD%2C%20%ED%95%98%EC%96%80%20%EB%88%88%EC%97%90%20%EC%95%88%EA%B8%B4%20%EB%82%B4%EC%86%8C%EC%82%AC%EC%99%80%20%EA%B3%B0%EC%86%8C%EC%97%BC%EC%A0%84%20%EB%B3%80%EC%82%B0%EB%B0%98%EB%8F%84%20%ED%9E%90%EB%A7%81%20%3C!HS%3E%EC%97%AC%ED%96%89%3C!HE%3E\",\"6a520e45-43d6-4e60-a9fe-d0cf620fd800\",\"c6955398-ede4-4d54-905a-e3b1aacd939c\",\"304\");'>공유하기</a></li> </ul></div></li></ul>\n"
     ]
    }
   ],
   "source": [
    "#1 1. 필요한 라이브러리 로드\n",
    "from bs4 import BeautifulSoup     \n",
    "from selenium import webdriver\n",
    "import time\n",
    "import sys\n",
    "\n",
    "# 2. 검색어 입력 받기\n",
    "query_txt = input('크롤링할 키워드는 무엇입니까?: ')\n",
    "f_name = input('검색 결과를 저장할 txt 파일경로와 이름을 지정하세요(예:c:\\\\data\\\\test_3.txt): ')\n",
    "fc_name = input('검색 결과를 저장할 csv 파일경로와 이름을 지정하세요(예:c:\\\\data\\\\test_3.csv): ')\n",
    "fx_name = input('검색 결과를 저장할 xls 파일경로와 이름을 지정하세요(예:c:\\\\data\\\\test_3.xls): ')\n",
    "\n",
    "# 3. 크롬 드라이버를 사용해서 웹 브라우저 실행\n",
    "path = \"C:/Temp/chromedriver_240/chromedriver_win321/chromedriver.exe\"\n",
    "driver = webdriver.Chrome(path)\n",
    "driver.get(\"https://korean.visitkorea.or.kr/main/main.html\")\n",
    "time.sleep(2)  #  창이 모두 열릴 때 까지 2초 기다림.\n",
    "\n",
    "\n",
    "# 4. 팝업창(?) 지우기\n",
    "driver.find_element_by_id(\"chkForm01\").click()\n",
    "#driver.find_element_by_xpath(\"\"\"//*[@id=\"chkForm01\"]\"\"\").click()\n",
    "driver.find_element_by_xpath(\"\"\"//*[@id=\"safetyStay1\"]/div[1]/div/div/button\"\"\").click()\n",
    "\n",
    "# 5. 검색창의 이름을 찾아 검색어 입력\n",
    "driver.find_element_by_id(\"gnbMain\").click()\n",
    "element = driver.find_element_by_id(\"inp_search\")\n",
    "element.send_keys(query_txt)\n",
    "\n",
    "# 6.. 검색 버튼 실행\n",
    "driver.find_element_by_link_text(\"검색\").click()\n",
    "\n",
    "\n",
    "\n",
    "# 6. 현재 페이지에 있는 내용 화면 출력\n",
    "time.sleep(1)\n",
    "\n",
    "html = driver.page_source\n",
    "soup = BeautifulSoup(html, 'html.parser')\n",
    "content_list = soup.find('ul',class_='list_thumType type1')\n",
    "print(content_list)\n",
    "\n"
   ]
  },
  {
   "cell_type": "code",
   "execution_count": 2,
   "metadata": {},
   "outputs": [
    {
     "name": "stdout",
     "output_type": "stream",
     "text": [
      "내용: 뜨끈한 국수 한 그릇 먹고 나서는 담양 겨울 여행\n",
      "태그: #겨울제철음식#담양맛집#담양국수거리#죽녹원#대나무박람회홍보관#담양장#슬로시티#창평슬로시티#삼지내마을#추천가볼만한곳#담양가볼만한곳#담양당일코스#담양1박2일코스#담양맛집#죽향문화체험마을#서당체험#미식여행#국수맛집#겨울의맛#2015년1월추천가볼만한곳#1월추천가볼만한곳#맛따라가기\n",
      "\n",
      "\n"
     ]
    }
   ],
   "source": [
    "# 7. 특정 항목들을 분리해서 추출하기\n",
    "contents = content_list.find('div','tit').get_text( )\n",
    "print('내용:',contents.strip())\n",
    "    \n",
    "tag = content_list.find('p','tag_type').get_text()\n",
    "print('태그:',tag.strip())\n",
    "print(\"\\n\")\n"
   ]
  },
  {
   "cell_type": "code",
   "execution_count": 16,
   "metadata": {},
   "outputs": [
    {
     "name": "stdout",
     "output_type": "stream",
     "text": [
      "번호: 1\n",
      "내용: 뜨끈한 국수 한 그릇 먹고 나서는 담양 겨울 여행\n",
      "태그: #겨울제철음식#담양맛집#담양국수거리#죽녹원#대나무박람회홍보관#담양장#슬로시티#창평슬로시티#삼지내마을#추천가볼만한곳#담양가볼만한곳#담양당일코스#담양1박2일코스#담양맛집#죽향문화체험마을#서당체험#미식여행#국수맛집#겨울의맛#2015년1월추천가볼만한곳#1월추천가볼만한곳#맛따라가기\n",
      "\n",
      "\n",
      "번호: 2\n",
      "내용: 겨울 여행의 추억 만들기\n",
      "태그: #한국관광품질인증#여행자의방#숲속의요정#정강원관광농원#소낭구펜션#옛마실펜션#꿈꾸는노마드#더세리리조트#메모리즈호텔#애플리트#목포마리나베이호텔#겨울여행#한국관광품질인증테마여행#우수숙소#인증숙소#평창숙소#거제숙소#제주숙소#속초숙소#목포숙소#포항숙소#양양숙소\n",
      "\n",
      "\n",
      "번호: 3\n",
      "내용: 기차 타고 떠나는 겨울여행, 군위 화본역과 화본마을\n",
      "태그: #겨울기차여행#공공누리\n",
      "\n",
      "\n",
      "번호: 4\n",
      "내용: “뭘 좋아할지 몰라서 다 준비했어!” 겨울방학 평창-강릉 가족 여행법\n",
      "태그: #평창가볼만한곳#강원도여행#가족여행#체험학습#이색체험#아이와함께#겨울방학가볼만한곳#강릉가볼만한곳#온가족_겨울여행\n",
      "\n",
      "\n",
      "번호: 5\n"
     ]
    },
    {
     "ename": "AttributeError",
     "evalue": "'NoneType' object has no attribute 'get_text'",
     "output_type": "error",
     "traceback": [
      "\u001b[1;31m---------------------------------------------------------------------------\u001b[0m",
      "\u001b[1;31mAttributeError\u001b[0m                            Traceback (most recent call last)",
      "\u001b[1;32m<ipython-input-16-bc15705d3e7f>\u001b[0m in \u001b[0;36m<module>\u001b[1;34m\u001b[0m\n\u001b[0;32m     10\u001b[0m \u001b[1;33m\u001b[0m\u001b[0m\n\u001b[0;32m     11\u001b[0m \u001b[1;33m\u001b[0m\u001b[0m\n\u001b[1;32m---> 12\u001b[1;33m     \u001b[0mcontents\u001b[0m \u001b[1;33m=\u001b[0m \u001b[0mi\u001b[0m\u001b[1;33m.\u001b[0m\u001b[0mfind\u001b[0m\u001b[1;33m(\u001b[0m\u001b[1;34m'div'\u001b[0m\u001b[1;33m,\u001b[0m\u001b[1;34m'tit'\u001b[0m\u001b[1;33m)\u001b[0m\u001b[1;33m.\u001b[0m\u001b[0mget_text\u001b[0m\u001b[1;33m(\u001b[0m\u001b[1;33m)\u001b[0m\u001b[1;33m\u001b[0m\u001b[1;33m\u001b[0m\u001b[0m\n\u001b[0m\u001b[0;32m     13\u001b[0m     \u001b[0mcontents2\u001b[0m\u001b[1;33m.\u001b[0m\u001b[0mappend\u001b[0m\u001b[1;33m(\u001b[0m\u001b[0mcontents\u001b[0m\u001b[1;33m)\u001b[0m\u001b[1;33m\u001b[0m\u001b[1;33m\u001b[0m\u001b[0m\n\u001b[0;32m     14\u001b[0m     \u001b[0mprint\u001b[0m\u001b[1;33m(\u001b[0m\u001b[1;34m'내용:'\u001b[0m\u001b[1;33m,\u001b[0m\u001b[0mcontents\u001b[0m\u001b[1;33m.\u001b[0m\u001b[0mstrip\u001b[0m\u001b[1;33m(\u001b[0m\u001b[1;33m)\u001b[0m\u001b[1;33m)\u001b[0m\u001b[1;33m\u001b[0m\u001b[1;33m\u001b[0m\u001b[0m\n",
      "\u001b[1;31mAttributeError\u001b[0m: 'NoneType' object has no attribute 'get_text'"
     ]
    }
   ],
   "source": [
    "# 8. 각 항목별로 분리하여 추출하고 변수에 할당하기\n",
    "no = 1\n",
    "no2 =[ ]\n",
    "contents2=[ ]\n",
    "tags2=[ ]\n",
    "\n",
    "for i in content_list:\n",
    "    no2.append(no)\n",
    "    print('번호:',no)\n",
    "    \n",
    "    \n",
    "    contents = i.find('div','tit').get_text()\n",
    "    contents2.append(contents)\n",
    "    print('내용:',contents.strip())\n",
    "    \n",
    "    tag = i.find('p','tag_type').get_text()\n",
    "    tags2.append(tag)\n",
    "    print('태그:',tag.strip())\n",
    "    print(\"\\n\")\n",
    "    \n",
    "    no += 1\n",
    "    \n",
    "\n"
   ]
  },
  {
   "cell_type": "code",
   "execution_count": 17,
   "metadata": {},
   "outputs": [
    {
     "ename": "ValueError",
     "evalue": "Length of values (4) does not match length of index (5)",
     "output_type": "error",
     "traceback": [
      "\u001b[1;31m---------------------------------------------------------------------------\u001b[0m",
      "\u001b[1;31mValueError\u001b[0m                                Traceback (most recent call last)",
      "\u001b[1;32m<ipython-input-17-ec57b8b0a971>\u001b[0m in \u001b[0;36m<module>\u001b[1;34m\u001b[0m\n\u001b[0;32m      4\u001b[0m \u001b[0mkorea_trip\u001b[0m \u001b[1;33m=\u001b[0m \u001b[0mpd\u001b[0m\u001b[1;33m.\u001b[0m\u001b[0mDataFrame\u001b[0m\u001b[1;33m(\u001b[0m\u001b[1;33m)\u001b[0m\u001b[1;33m\u001b[0m\u001b[1;33m\u001b[0m\u001b[0m\n\u001b[0;32m      5\u001b[0m \u001b[0mkorea_trip\u001b[0m\u001b[1;33m[\u001b[0m\u001b[1;34m'번호'\u001b[0m\u001b[1;33m]\u001b[0m\u001b[1;33m=\u001b[0m\u001b[0mno2\u001b[0m\u001b[1;33m\u001b[0m\u001b[1;33m\u001b[0m\u001b[0m\n\u001b[1;32m----> 6\u001b[1;33m \u001b[0mkorea_trip\u001b[0m\u001b[1;33m[\u001b[0m\u001b[1;34m'내용'\u001b[0m\u001b[1;33m]\u001b[0m\u001b[1;33m=\u001b[0m\u001b[0mcontents2\u001b[0m\u001b[1;33m\u001b[0m\u001b[1;33m\u001b[0m\u001b[0m\n\u001b[0m\u001b[0;32m      7\u001b[0m \u001b[0mkorea_trip\u001b[0m\u001b[1;33m[\u001b[0m\u001b[1;34m'태그'\u001b[0m\u001b[1;33m]\u001b[0m\u001b[1;33m=\u001b[0m\u001b[0mtags2\u001b[0m\u001b[1;33m\u001b[0m\u001b[1;33m\u001b[0m\u001b[0m\n\u001b[0;32m      8\u001b[0m \u001b[1;33m\u001b[0m\u001b[0m\n",
      "\u001b[1;32m~\\anaconda3\\lib\\site-packages\\pandas\\core\\frame.py\u001b[0m in \u001b[0;36m__setitem__\u001b[1;34m(self, key, value)\u001b[0m\n\u001b[0;32m   3161\u001b[0m         \u001b[1;32melse\u001b[0m\u001b[1;33m:\u001b[0m\u001b[1;33m\u001b[0m\u001b[1;33m\u001b[0m\u001b[0m\n\u001b[0;32m   3162\u001b[0m             \u001b[1;31m# set column\u001b[0m\u001b[1;33m\u001b[0m\u001b[1;33m\u001b[0m\u001b[1;33m\u001b[0m\u001b[0m\n\u001b[1;32m-> 3163\u001b[1;33m             \u001b[0mself\u001b[0m\u001b[1;33m.\u001b[0m\u001b[0m_set_item\u001b[0m\u001b[1;33m(\u001b[0m\u001b[0mkey\u001b[0m\u001b[1;33m,\u001b[0m \u001b[0mvalue\u001b[0m\u001b[1;33m)\u001b[0m\u001b[1;33m\u001b[0m\u001b[1;33m\u001b[0m\u001b[0m\n\u001b[0m\u001b[0;32m   3164\u001b[0m \u001b[1;33m\u001b[0m\u001b[0m\n\u001b[0;32m   3165\u001b[0m     \u001b[1;32mdef\u001b[0m \u001b[0m_setitem_slice\u001b[0m\u001b[1;33m(\u001b[0m\u001b[0mself\u001b[0m\u001b[1;33m,\u001b[0m \u001b[0mkey\u001b[0m\u001b[1;33m:\u001b[0m \u001b[0mslice\u001b[0m\u001b[1;33m,\u001b[0m \u001b[0mvalue\u001b[0m\u001b[1;33m)\u001b[0m\u001b[1;33m:\u001b[0m\u001b[1;33m\u001b[0m\u001b[1;33m\u001b[0m\u001b[0m\n",
      "\u001b[1;32m~\\anaconda3\\lib\\site-packages\\pandas\\core\\frame.py\u001b[0m in \u001b[0;36m_set_item\u001b[1;34m(self, key, value)\u001b[0m\n\u001b[0;32m   3237\u001b[0m         \"\"\"\n\u001b[0;32m   3238\u001b[0m         \u001b[0mself\u001b[0m\u001b[1;33m.\u001b[0m\u001b[0m_ensure_valid_index\u001b[0m\u001b[1;33m(\u001b[0m\u001b[0mvalue\u001b[0m\u001b[1;33m)\u001b[0m\u001b[1;33m\u001b[0m\u001b[1;33m\u001b[0m\u001b[0m\n\u001b[1;32m-> 3239\u001b[1;33m         \u001b[0mvalue\u001b[0m \u001b[1;33m=\u001b[0m \u001b[0mself\u001b[0m\u001b[1;33m.\u001b[0m\u001b[0m_sanitize_column\u001b[0m\u001b[1;33m(\u001b[0m\u001b[0mkey\u001b[0m\u001b[1;33m,\u001b[0m \u001b[0mvalue\u001b[0m\u001b[1;33m)\u001b[0m\u001b[1;33m\u001b[0m\u001b[1;33m\u001b[0m\u001b[0m\n\u001b[0m\u001b[0;32m   3240\u001b[0m         \u001b[0mNDFrame\u001b[0m\u001b[1;33m.\u001b[0m\u001b[0m_set_item\u001b[0m\u001b[1;33m(\u001b[0m\u001b[0mself\u001b[0m\u001b[1;33m,\u001b[0m \u001b[0mkey\u001b[0m\u001b[1;33m,\u001b[0m \u001b[0mvalue\u001b[0m\u001b[1;33m)\u001b[0m\u001b[1;33m\u001b[0m\u001b[1;33m\u001b[0m\u001b[0m\n\u001b[0;32m   3241\u001b[0m \u001b[1;33m\u001b[0m\u001b[0m\n",
      "\u001b[1;32m~\\anaconda3\\lib\\site-packages\\pandas\\core\\frame.py\u001b[0m in \u001b[0;36m_sanitize_column\u001b[1;34m(self, key, value, broadcast)\u001b[0m\n\u001b[0;32m   3894\u001b[0m \u001b[1;33m\u001b[0m\u001b[0m\n\u001b[0;32m   3895\u001b[0m             \u001b[1;31m# turn me into an ndarray\u001b[0m\u001b[1;33m\u001b[0m\u001b[1;33m\u001b[0m\u001b[1;33m\u001b[0m\u001b[0m\n\u001b[1;32m-> 3896\u001b[1;33m             \u001b[0mvalue\u001b[0m \u001b[1;33m=\u001b[0m \u001b[0msanitize_index\u001b[0m\u001b[1;33m(\u001b[0m\u001b[0mvalue\u001b[0m\u001b[1;33m,\u001b[0m \u001b[0mself\u001b[0m\u001b[1;33m.\u001b[0m\u001b[0mindex\u001b[0m\u001b[1;33m)\u001b[0m\u001b[1;33m\u001b[0m\u001b[1;33m\u001b[0m\u001b[0m\n\u001b[0m\u001b[0;32m   3897\u001b[0m             \u001b[1;32mif\u001b[0m \u001b[1;32mnot\u001b[0m \u001b[0misinstance\u001b[0m\u001b[1;33m(\u001b[0m\u001b[0mvalue\u001b[0m\u001b[1;33m,\u001b[0m \u001b[1;33m(\u001b[0m\u001b[0mnp\u001b[0m\u001b[1;33m.\u001b[0m\u001b[0mndarray\u001b[0m\u001b[1;33m,\u001b[0m \u001b[0mIndex\u001b[0m\u001b[1;33m)\u001b[0m\u001b[1;33m)\u001b[0m\u001b[1;33m:\u001b[0m\u001b[1;33m\u001b[0m\u001b[1;33m\u001b[0m\u001b[0m\n\u001b[0;32m   3898\u001b[0m                 \u001b[1;32mif\u001b[0m \u001b[0misinstance\u001b[0m\u001b[1;33m(\u001b[0m\u001b[0mvalue\u001b[0m\u001b[1;33m,\u001b[0m \u001b[0mlist\u001b[0m\u001b[1;33m)\u001b[0m \u001b[1;32mand\u001b[0m \u001b[0mlen\u001b[0m\u001b[1;33m(\u001b[0m\u001b[0mvalue\u001b[0m\u001b[1;33m)\u001b[0m \u001b[1;33m>\u001b[0m \u001b[1;36m0\u001b[0m\u001b[1;33m:\u001b[0m\u001b[1;33m\u001b[0m\u001b[1;33m\u001b[0m\u001b[0m\n",
      "\u001b[1;32m~\\anaconda3\\lib\\site-packages\\pandas\\core\\internals\\construction.py\u001b[0m in \u001b[0;36msanitize_index\u001b[1;34m(data, index)\u001b[0m\n\u001b[0;32m    750\u001b[0m     \u001b[1;32mif\u001b[0m \u001b[0mlen\u001b[0m\u001b[1;33m(\u001b[0m\u001b[0mdata\u001b[0m\u001b[1;33m)\u001b[0m \u001b[1;33m!=\u001b[0m \u001b[0mlen\u001b[0m\u001b[1;33m(\u001b[0m\u001b[0mindex\u001b[0m\u001b[1;33m)\u001b[0m\u001b[1;33m:\u001b[0m\u001b[1;33m\u001b[0m\u001b[1;33m\u001b[0m\u001b[0m\n\u001b[0;32m    751\u001b[0m         raise ValueError(\n\u001b[1;32m--> 752\u001b[1;33m             \u001b[1;34m\"Length of values \"\u001b[0m\u001b[1;33m\u001b[0m\u001b[1;33m\u001b[0m\u001b[0m\n\u001b[0m\u001b[0;32m    753\u001b[0m             \u001b[1;34mf\"({len(data)}) \"\u001b[0m\u001b[1;33m\u001b[0m\u001b[1;33m\u001b[0m\u001b[0m\n\u001b[0;32m    754\u001b[0m             \u001b[1;34m\"does not match length of index \"\u001b[0m\u001b[1;33m\u001b[0m\u001b[1;33m\u001b[0m\u001b[0m\n",
      "\u001b[1;31mValueError\u001b[0m: Length of values (4) does not match length of index (5)"
     ]
    }
   ],
   "source": [
    "# 9. 출력 결과는 데이터 프레임 형태로 만들기  \n",
    "import pandas as pd\n",
    "\n",
    "korea_trip = pd.DataFrame()\n",
    "korea_trip['번호']=no2\n",
    "korea_trip['내용']=contents2\n",
    "korea_trip['태그']=tags2\n",
    "\n",
    "# csv 형태로 저장하기\n",
    "korea_trip.to_csv(fc_name, encoding=\"utf-8-sig\")\n",
    "print(\" csv 파일 저장 경로: %s\" %fc_name)\n",
    "\n",
    "# 엑셀 형태로 저장하기\n",
    "import xlwt   # pip install xlwt 실행 후 수행\n",
    "korea_trip.to_excel(fx_name)\n",
    "print(\" xls 파일 저장 경로: %s\" %fx_name)\n",
    "\n",
    "# 출력 결과를 txt 파일로 저장하기\n",
    "f = open(f_name, 'a',encoding='UTF-8')\n",
    "f.write(str(contents2))\n",
    "f.write(str(tags2))\n",
    "f.close( )\n",
    "print(\" txt 파일 저장 경로: %s\" %f_name)  "
   ]
  },
  {
   "cell_type": "code",
   "execution_count": 20,
   "metadata": {},
   "outputs": [],
   "source": [
    "# 10. openpyxl 패키지를 활용한 엑셀 형식의 파일 관리하기\n",
    "import openpyxl\n",
    "\n",
    "# 새로운 엑셀 파일을 1개 생성.\n",
    "wb = openpyxl.Workbook( )  \n",
    "wb.save('C:/Users/stat/Desktop/허지혜/수DA쟁이/완친파/test1.xlsx')\n",
    "\n",
    "\n",
    "# 새로운 시트 생성하고 시트이름 변경\n",
    "import openpyxl\n",
    "wb = openpyxl.Workbook( )\n",
    "\n",
    "sheet_1 = wb.active   # 현재 활성화 된 sheeet 가져오기\n",
    "\n",
    "# 새로운 시트를 만들면서 시트 이름을 지정\n",
    "sheet_2 = wb.create_sheet(\"매출현황\")\n",
    "\n",
    "# 시트 이름 변경\n",
    "sheet_1.title = '총매출현황'\n",
    "\n",
    "wb.save('C:/Users/stat/Desktop/허지혜/수DA쟁이/완친파/test2.xlsx')\n",
    "\n",
    "# Step 3. 기존 파일 불러와서 cell 에 내용 입력\n",
    "import openpyxl\n",
    "\n",
    "wb = openpyxl.load_workbook('C:/Users/stat/Desktop/허지혜/수DA쟁이/완친파/test2.xlsx')\n",
    "sheet_1 = wb['총매출현황']\n",
    "sheet_1['A1'] = '첫번째 cell'\n",
    "sheet_1['A2'] = '두번째 cell'\n",
    "\n",
    "wb.save('C:/Users/stat/Desktop/허지혜/수DA쟁이/완친파/test2.xlsx')"
   ]
  },
  {
   "cell_type": "code",
   "execution_count": null,
   "metadata": {},
   "outputs": [],
   "source": []
  },
  {
   "cell_type": "code",
   "execution_count": null,
   "metadata": {},
   "outputs": [],
   "source": []
  },
  {
   "cell_type": "code",
   "execution_count": null,
   "metadata": {},
   "outputs": [],
   "source": []
  }
 ],
 "metadata": {
  "kernelspec": {
   "display_name": "Python 3",
   "language": "python",
   "name": "python3"
  },
  "language_info": {
   "codemirror_mode": {
    "name": "ipython",
    "version": 3
   },
   "file_extension": ".py",
   "mimetype": "text/x-python",
   "name": "python",
   "nbconvert_exporter": "python",
   "pygments_lexer": "ipython3",
   "version": "3.7.7"
  }
 },
 "nbformat": 4,
 "nbformat_minor": 2
}
