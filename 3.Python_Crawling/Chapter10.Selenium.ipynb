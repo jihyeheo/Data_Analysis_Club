{
 "cells": [
  {
   "cell_type": "markdown",
   "metadata": {},
   "source": [
    "# 소주제 1:  1. 실습을 위한 환경 준비\n",
    "\n",
    "1) 파이썬은 3.5.X 버전으로 테스트를 했습니다.\n",
    "\n",
    "2. pip를 사용하여 BeautifulSoup 최신 버전을 설치합니다.\n",
    "[ 윈도의 명령 프롬프트 창에서 아래의 명령을 실행하세요]\n",
    "\n",
    "pip install bs4\n",
    "\n",
    "3. pip 를 사용하여 selenium (셀레니움)을 설치합니다.\n",
    "[ 윈도의 명령 프롬프트 창에서 아래의 명령을 실행하세요]\n",
    "\n",
    "pip install selenium\n",
    "\n",
    "4. selenium 은 웹 브라우저를 제어해서 크롤링을 진행합니다.\n",
    "그래서 selenium 을 사용할 때 웹 브라우저를 지정해 주어야 하는데 여기서는 구글사의 크롬을 이용하겠습니다. \n",
    "크롬을 사용하려면 실습을 진행하는 컴퓨터에 크롬이 설치되어 있어야 하며 selenium 이 사용할 크롬 드라이버도 있어야 합니다.\n",
    "크롬 드라이버는 아래 링크를 눌러서 최신 버전을 받아 주세요\n",
    "\n",
    "https://sites.google.com/a/chromium.org/chromedriver/downloads\n",
    "\n"
   ]
  },
  {
   "cell_type": "code",
   "execution_count": 24,
   "metadata": {},
   "outputs": [
    {
     "ename": "KeyboardInterrupt",
     "evalue": "Interrupted by user",
     "output_type": "error",
     "traceback": [
      "\u001b[1;31m---------------------------------------------------------------------------\u001b[0m",
      "\u001b[1;31mKeyboardInterrupt\u001b[0m                         Traceback (most recent call last)",
      "\u001b[1;32m<ipython-input-24-ddef66f62464>\u001b[0m in \u001b[0;36m<module>\u001b[1;34m\u001b[0m\n\u001b[0;32m      5\u001b[0m \u001b[1;33m\u001b[0m\u001b[0m\n\u001b[0;32m      6\u001b[0m \u001b[1;31m#2. 검색어 입력 받기\u001b[0m\u001b[1;33m\u001b[0m\u001b[1;33m\u001b[0m\u001b[1;33m\u001b[0m\u001b[0m\n\u001b[1;32m----> 7\u001b[1;33m \u001b[0mquery_txt\u001b[0m \u001b[1;33m=\u001b[0m \u001b[0minput\u001b[0m\u001b[1;33m(\u001b[0m\u001b[1;34m'크롤링할 키워드는 무엇입니까?: '\u001b[0m\u001b[1;33m)\u001b[0m\u001b[1;33m\u001b[0m\u001b[1;33m\u001b[0m\u001b[0m\n\u001b[0m\u001b[0;32m      8\u001b[0m \u001b[1;33m\u001b[0m\u001b[0m\n\u001b[0;32m      9\u001b[0m \u001b[1;31m#3. 크롬 드라이버를 사용해서 웹 브라우저 실행.\u001b[0m\u001b[1;33m\u001b[0m\u001b[1;33m\u001b[0m\u001b[1;33m\u001b[0m\u001b[0m\n",
      "\u001b[1;32m~\\anaconda3\\lib\\site-packages\\ipykernel\\kernelbase.py\u001b[0m in \u001b[0;36mraw_input\u001b[1;34m(self, prompt)\u001b[0m\n\u001b[0;32m    861\u001b[0m             \u001b[0mself\u001b[0m\u001b[1;33m.\u001b[0m\u001b[0m_parent_ident\u001b[0m\u001b[1;33m,\u001b[0m\u001b[1;33m\u001b[0m\u001b[1;33m\u001b[0m\u001b[0m\n\u001b[0;32m    862\u001b[0m             \u001b[0mself\u001b[0m\u001b[1;33m.\u001b[0m\u001b[0m_parent_header\u001b[0m\u001b[1;33m,\u001b[0m\u001b[1;33m\u001b[0m\u001b[1;33m\u001b[0m\u001b[0m\n\u001b[1;32m--> 863\u001b[1;33m             \u001b[0mpassword\u001b[0m\u001b[1;33m=\u001b[0m\u001b[1;32mFalse\u001b[0m\u001b[1;33m,\u001b[0m\u001b[1;33m\u001b[0m\u001b[1;33m\u001b[0m\u001b[0m\n\u001b[0m\u001b[0;32m    864\u001b[0m         )\n\u001b[0;32m    865\u001b[0m \u001b[1;33m\u001b[0m\u001b[0m\n",
      "\u001b[1;32m~\\anaconda3\\lib\\site-packages\\ipykernel\\kernelbase.py\u001b[0m in \u001b[0;36m_input_request\u001b[1;34m(self, prompt, ident, parent, password)\u001b[0m\n\u001b[0;32m    902\u001b[0m             \u001b[1;32mexcept\u001b[0m \u001b[0mKeyboardInterrupt\u001b[0m\u001b[1;33m:\u001b[0m\u001b[1;33m\u001b[0m\u001b[1;33m\u001b[0m\u001b[0m\n\u001b[0;32m    903\u001b[0m                 \u001b[1;31m# re-raise KeyboardInterrupt, to truncate traceback\u001b[0m\u001b[1;33m\u001b[0m\u001b[1;33m\u001b[0m\u001b[1;33m\u001b[0m\u001b[0m\n\u001b[1;32m--> 904\u001b[1;33m                 \u001b[1;32mraise\u001b[0m \u001b[0mKeyboardInterrupt\u001b[0m\u001b[1;33m(\u001b[0m\u001b[1;34m\"Interrupted by user\"\u001b[0m\u001b[1;33m)\u001b[0m \u001b[1;32mfrom\u001b[0m \u001b[1;32mNone\u001b[0m\u001b[1;33m\u001b[0m\u001b[1;33m\u001b[0m\u001b[0m\n\u001b[0m\u001b[0;32m    905\u001b[0m             \u001b[1;32mexcept\u001b[0m \u001b[0mException\u001b[0m \u001b[1;32mas\u001b[0m \u001b[0me\u001b[0m\u001b[1;33m:\u001b[0m\u001b[1;33m\u001b[0m\u001b[1;33m\u001b[0m\u001b[0m\n\u001b[0;32m    906\u001b[0m                 \u001b[0mself\u001b[0m\u001b[1;33m.\u001b[0m\u001b[0mlog\u001b[0m\u001b[1;33m.\u001b[0m\u001b[0mwarning\u001b[0m\u001b[1;33m(\u001b[0m\u001b[1;34m\"Invalid Message:\"\u001b[0m\u001b[1;33m,\u001b[0m \u001b[0mexc_info\u001b[0m\u001b[1;33m=\u001b[0m\u001b[1;32mTrue\u001b[0m\u001b[1;33m)\u001b[0m\u001b[1;33m\u001b[0m\u001b[1;33m\u001b[0m\u001b[0m\n",
      "\u001b[1;31mKeyboardInterrupt\u001b[0m: Interrupted by user"
     ]
    }
   ],
   "source": [
    "# 1. 필요한 라이브러리 로드\n",
    "from bs4 import BeautifulSoup     \n",
    "from selenium import webdriver\n",
    "import time\n",
    "\n",
    "#2. 검색어 입력 받기\n",
    "query_txt = input('크롤링할 키워드는 무엇입니까?: ')\n",
    "\n",
    "#3. 크롬 드라이버를 사용해서 웹 브라우저 실행.\n",
    "path = \"C:/Temp/chromedriver_240/chromedriver_win321/chromedriver.exe\"\n",
    "driver = webdriver.Chrome(path)\n",
    "\n",
    "driver.get(\"https://korean.visitkorea.or.kr/main/main.html\")\n",
    "time.sleep(10)  # 위 페이지가 모두 열릴 때 까지 10초 기다림.\n",
    "\n",
    "#4. 팝업창(?) 지우기\n",
    "driver.find_element_by_id(\"chkForm01\").click()\n",
    "#driver.find_element_by_xpath(\"\"\"//*[@id=\"chkForm01\"]\"\"\").click()\n",
    "driver.find_element_by_xpath(\"\"\"//*[@id=\"safetyStay1\"]/div[1]/div/div/button\"\"\").click()\n",
    "\n",
    "#5. 검색창의 이름을 찾아 검색어 입력\n",
    "driver.find_element_by_id(\"gnbMain\").click()\n",
    "element = driver.find_element_by_id(\"inp_search\")\n",
    "element.send_keys(query_txt)\n",
    "\n",
    "#6. 검색 버튼 실행\n",
    "driver.find_element_by_link_text(\"검색\").click()\n",
    "#driver.find_element_by_class_name(\"btn_search2\").click()  # class name \n",
    "#driver.find_element_by_xpath('//*[@id=\"gnbMain\"]/div/div/div[1]/div[1]/a').click()   # xpath "
   ]
  },
  {
   "cell_type": "code",
   "execution_count": null,
   "metadata": {},
   "outputs": [],
   "source": []
  }
 ],
 "metadata": {
  "kernelspec": {
   "display_name": "Python 3",
   "language": "python",
   "name": "python3"
  },
  "language_info": {
   "codemirror_mode": {
    "name": "ipython",
    "version": 3
   },
   "file_extension": ".py",
   "mimetype": "text/x-python",
   "name": "python",
   "nbconvert_exporter": "python",
   "pygments_lexer": "ipython3",
   "version": "3.7.7"
  }
 },
 "nbformat": 4,
 "nbformat_minor": 2
}
